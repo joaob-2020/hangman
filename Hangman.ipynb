{
 "cells": [
  {
   "cell_type": "markdown",
   "id": "0e40bfe0",
   "metadata": {
    "slideshow": {
     "slide_type": "slide"
    }
   },
   "source": [
    "#### The project is the hangman game, the player has to guess a letter from a random word or against a player.\n",
    "#### This first player has 5 attempts to guess the word, if he guessed a letter correctly, win a point. \n",
    "#### If he guessed the word, win 10 points, if  he guessed a wrong letter, lose a point.\n",
    "#### If he did not guess the word, lose 10 points.\n",
    "#### There is a 2 player mode, where one player write the word and the other one try to guess.\n",
    "#### In case the player plays against the PC, the PC chooses a random word from a list."
   ]
  },
  {
   "cell_type": "markdown",
   "id": "4a42179d",
   "metadata": {
    "slideshow": {
     "slide_type": "skip"
    }
   },
   "source": [
    "## 1) Imports and transform words from archive"
   ]
  },
  {
   "cell_type": "code",
   "execution_count": null,
   "id": "b89c629b",
   "metadata": {
    "slideshow": {
     "slide_type": "slide"
    }
   },
   "outputs": [],
   "source": [
    "#import numpy\n",
    "import numpy as np\n",
    "\n",
    "# dataframe\n",
    "import pandas as pd\n",
    "\n",
    "# regular expression\n",
    "import re\n",
    "\n",
    "# remove accents\n",
    "import unidecode\n",
    "\n",
    "# random\n",
    "import random\n",
    "\n",
    "#mySQL connect\n",
    "import mysql.connector\n",
    "\n",
    "# system\n",
    "import sys\n",
    "\n",
    "# warnings\n",
    "import warnings\n",
    "warnings.filterwarnings('ignore')"
   ]
  },
  {
   "cell_type": "markdown",
   "id": "09b41c51",
   "metadata": {},
   "source": [
    "#### 1.1) Export and Load words archive"
   ]
  },
  {
   "cell_type": "code",
   "execution_count": null,
   "id": "cfedad02",
   "metadata": {
    "slideshow": {
     "slide_type": "slide"
    }
   },
   "outputs": [],
   "source": [
    "f = open(\"C:/Users/Aluno/Desktop/UPSKILL/Trabalhos/M1 - Trabalho Intro.prog/p.txt\", 'r')\n",
    "l1 = f.readlines()\n",
    "print(len(l1))\n",
    "print((type(l1)))"
   ]
  },
  {
   "cell_type": "markdown",
   "id": "f9ee58b6",
   "metadata": {
    "slideshow": {
     "slide_type": "fragment"
    }
   },
   "source": [
    "#### 1.2) Transform words"
   ]
  },
  {
   "cell_type": "code",
   "execution_count": null,
   "id": "f3d79bc4",
   "metadata": {
    "slideshow": {
     "slide_type": "slide"
    }
   },
   "outputs": [],
   "source": [
    "# create a dataframe\n",
    "df = pd.read_csv('C:/Users/Aluno/Desktop/UPSKILL/Trabalhos/M1 - Trabalho Intro.prog/p.txt', header=None, encoding = \"ISO-8859-1\")\n",
    "print(df.head(5))\n",
    "print(df.tail(5))"
   ]
  },
  {
   "cell_type": "code",
   "execution_count": null,
   "id": "e3025d5e",
   "metadata": {
    "slideshow": {
     "slide_type": "slide"
    }
   },
   "outputs": [],
   "source": [
    "# name dataframe column 0 as \"words\"\n",
    "words = df[0]"
   ]
  },
  {
   "cell_type": "code",
   "execution_count": null,
   "id": "636307a9",
   "metadata": {
    "slideshow": {
     "slide_type": "slide"
    }
   },
   "outputs": [],
   "source": [
    "print(words)"
   ]
  },
  {
   "cell_type": "code",
   "execution_count": null,
   "id": "3a05ffee",
   "metadata": {
    "slideshow": {
     "slide_type": "slide"
    }
   },
   "outputs": [],
   "source": [
    "# with regular expression remove acronyms, names like Aachen and Aalborg\n",
    "pattern = \"^[^A-Z]{2}[^Aa]\"\n",
    "df1 = words[words.str.contains(pattern)]\n",
    "print(df1)"
   ]
  },
  {
   "cell_type": "code",
   "execution_count": null,
   "id": "9acf8192",
   "metadata": {
    "slideshow": {
     "slide_type": "slide"
    }
   },
   "outputs": [],
   "source": [
    "# create a new dataframe with words ONLY with hyphen\n",
    "pattern = \"[\\w]+[-]\"\n",
    "df2 = df1[words.str.contains(pattern)]\n",
    "print(df2)"
   ]
  },
  {
   "cell_type": "code",
   "execution_count": null,
   "id": "8fc7948d",
   "metadata": {
    "slideshow": {
     "slide_type": "slide"
    }
   },
   "outputs": [],
   "source": [
    "# remove words from df1 with hyphen and call it df3\n",
    "df3 = pd.concat([df1, df2, df2]).drop_duplicates(keep=False)"
   ]
  },
  {
   "cell_type": "code",
   "execution_count": null,
   "id": "a484e26d",
   "metadata": {
    "slideshow": {
     "slide_type": "slide"
    }
   },
   "outputs": [],
   "source": [
    "# transforming the dataframe into a list without accents\n",
    "flist = df3.values.tolist()\n",
    "unaccented_list = []\n",
    "for i in range (len(flist)):\n",
    "    decode = unidecode.unidecode(flist[i])\n",
    "    unaccented_list.append(decode)"
   ]
  },
  {
   "cell_type": "markdown",
   "id": "88078929",
   "metadata": {
    "slideshow": {
     "slide_type": "slide"
    }
   },
   "source": [
    "## 2) Open DB connection"
   ]
  },
  {
   "cell_type": "code",
   "execution_count": null,
   "id": "fdd42ea7",
   "metadata": {
    "slideshow": {
     "slide_type": "slide"
    }
   },
   "outputs": [],
   "source": [
    "con = mysql.connector.connect(\n",
    "      host=\"localhost\",\n",
    "      user=\"root\",\n",
    "      passwd=\"test\",\n",
    "      #passwd=\"\",\n",
    "      database=\"dbgame\"\n",
    "    )\n",
    "mycursor = con.cursor()"
   ]
  },
  {
   "cell_type": "markdown",
   "id": "740b9119",
   "metadata": {
    "slideshow": {
     "slide_type": "slide"
    }
   },
   "source": [
    "## 3) Insert values into MySQL DB"
   ]
  },
  {
   "cell_type": "code",
   "execution_count": null,
   "id": "d8665045",
   "metadata": {
    "slideshow": {
     "slide_type": "slide"
    }
   },
   "outputs": [],
   "source": [
    "# insert MySQL values\n",
    "def insertdb():\n",
    "    qry = f\"\"\"INSERT INTO dbgame.game (name, points) VALUES ('{name}', '{total_points}') \"\"\"\n",
    "    mycursor.execute(qry)\n",
    "    con.commit()"
   ]
  },
  {
   "cell_type": "markdown",
   "id": "07cf3b55",
   "metadata": {},
   "source": [
    "## 4) Retrieve previous points from MySQL DB"
   ]
  },
  {
   "cell_type": "code",
   "execution_count": null,
   "id": "eed259e7",
   "metadata": {},
   "outputs": [],
   "source": [
    "def retrieve(name):\n",
    "    qry = f\"\"\" SELECT * FROM dbgame.game WHERE name = '{name}' ORDER BY id DESC LIMIT 1 \"\"\"\n",
    "    mycursor.execute(qry)\n",
    "    records = mycursor.fetchall()\n",
    "    for row in records:\n",
    "        name = row[1]\n",
    "        a = row[2] \n",
    "        if name == name:\n",
    "            a = row[2]\n",
    "            print(\"Previous points: \", a)\n",
    "            break\n",
    "        else:\n",
    "            a = 0"
   ]
  },
  {
   "cell_type": "markdown",
   "id": "aa5b64ac",
   "metadata": {
    "slideshow": {
     "slide_type": "slide"
    }
   },
   "source": [
    "## 5) The game"
   ]
  },
  {
   "cell_type": "code",
   "execution_count": null,
   "id": "1f5276af",
   "metadata": {
    "slideshow": {
     "slide_type": "slide"
    }
   },
   "outputs": [],
   "source": [
    "name = input(\"Write your name: \")\n",
    "total_points = 0\n",
    "\n",
    "# Function to transform word into a list without accents\n",
    "\n",
    "def unaccented(word):\n",
    "    unaccented_list = []\n",
    "    for i in range(len(word)):\n",
    "        decode = unidecode.unidecode(word[i])\n",
    "        unaccented_list.append(decode)\n",
    "    return unaccented_list\n",
    "    \n",
    "# player vs player\n",
    "def player(word):    \n",
    "    return unaccented(word)   \n",
    "\n",
    "# menu\n",
    "def menu():\n",
    "    print(\"[1] Player vs Player.\")\n",
    "    print(\"[2] Player against a random word from computer.\")\n",
    "    print(\"[3] My points.\")\n",
    "    print(\"[0] Exit\")\n",
    "    print(\"\\n\")\n",
    "\n",
    "# according to the option, get word\n",
    "def get_word():    \n",
    "    menu()\n",
    "    global name\n",
    "    end = False\n",
    "    x = int(input(\"Enter the option: \"))\n",
    "    while x != 0 and end == False:     \n",
    "        if x == 1:\n",
    "            word = list(input(\"Enter the word to play: \").upper()) \n",
    "            return player(word)  \n",
    "        if x == 2:\n",
    "            word = list(random.choice(unaccented_list).upper())\n",
    "            return word        \n",
    "        if x == 3:           \n",
    "            retrieve(name)\n",
    "            end = True            \n",
    "        else:\n",
    "            print(\"Invalid option. Choose again. \\n\")\n",
    "            menu()\n",
    "            x = int(input(\"Enter the option: \"))   \n",
    "    sys.exit(\"Bye.\")        \n",
    "        \n",
    "# Play game:\n",
    "def play(word):\n",
    "    word2 = list(word)\n",
    "    choice = []\n",
    "    wrong = []\n",
    "    right = []\n",
    "    points = 0\n",
    "    attempts = 0\n",
    "    max_attempts = 5    \n",
    "    global name\n",
    "    global total_points \n",
    "    \n",
    "    # get previous points from player\n",
    "    qry = f\"\"\" SELECT * FROM dbgame.game WHERE name = '{name}' ORDER BY id DESC LIMIT 1 \"\"\"\n",
    "    mycursor.execute(qry)\n",
    "    records = mycursor.fetchall()\n",
    "    for row in records:\n",
    "        name = row[1]\n",
    "        a = row[2]  \n",
    "        if name == name:\n",
    "            a = row[2]\n",
    "            break\n",
    "    else:\n",
    "        a = 0    \n",
    "\n",
    "#loop through the word and create \"_\"\n",
    "    for i in word:\n",
    "        choice.append('_')\n",
    "\n",
    "# loop until the player has won or lost\n",
    "    end = False\n",
    "    while not end:\n",
    "    \n",
    "    # display attempts, letters, hangman and points\n",
    "        print('{} attempts'.format(max_attempts - attempts))\n",
    "        print('The current word is: {} '.format(' '.join(choice)))\n",
    "        print('     ------')\n",
    "        print('     |    |')\n",
    "        print('     |    ' + ('O' if attempts >= 1 else ''))\n",
    "        print('     |    ' + ('/\\\\' if attempts >= 2 else ''))\n",
    "        print('     |    ' + ('|' if attempts >= 3 else ''))\n",
    "        print('     |    ' + ('/\\\\' if attempts >= 4 else ''))\n",
    "        print('   ------')\n",
    "    \n",
    "    # Ask the player to guess\n",
    "        guess = (input(\"Guess a letter: \")).upper()          \n",
    "        print('\\n\\n\\n')\n",
    "    \n",
    "    #If the player guessed right, show all matched letters and print it\n",
    "        if guess in word:\n",
    "            print(\"Guessed correctly the {} in the word\".format(guess))\n",
    "            points += 1\n",
    "            print(\"points: \", points)\n",
    "            right.append(guess)\n",
    "            for i in range(len(word)):\n",
    "                char = word[i]\n",
    "                if char == guess:            \n",
    "                    choice[i] = word[i]\n",
    "                    word[i] = \"_\"\n",
    "                    \n",
    "        elif guess not in word and guess not in right and guess not in wrong:\n",
    "            print(\"Guessed wrongly the {} in the word\".format(guess))\n",
    "            points -= 1\n",
    "            attempts += 1\n",
    "            wrong.append(guess)\n",
    "            print(\"points: \", points)\n",
    "                    \n",
    "        elif guess in right:\n",
    "            print(\"You already guessed this word!\")\n",
    "            \n",
    "        elif guess in wrong:\n",
    "            print(\"You already guessed this word!\")                \n",
    "        \n",
    "        # if the player has won print a win message and stop looping\n",
    "        if all(\"_\" == char for char in word):\n",
    "            print(\"Congrats, you won!\")\n",
    "            total_points = 10 + a + points\n",
    "            print(\"Total points: \", total_points)\n",
    "            print(\"Word\", word2)\n",
    "            end = True\n",
    "            \n",
    "        # if the player has lost, print failing and stop looping\n",
    "        if attempts >= max_attempts:\n",
    "            print(\"Word: \", (word2))\n",
    "            print(\"You lost!\")\n",
    "            total_points = -10 + a + points     \n",
    "            print(\"Total points: \", total_points)\n",
    "            end = True \n",
    "\n",
    "def main():\n",
    "    word = get_word()\n",
    "    play(word)    \n",
    "    insertdb()        \n",
    "    while input(\"Play Again? (Y/N) \").upper() == \"Y\":\n",
    "        word = get_word()\n",
    "        play(word)        \n",
    "        insertdb()                \n",
    "    else:\n",
    "        print(\"THE END...\")        \n",
    "\n",
    "if __name__ == \"__main__\":\n",
    "    main()"
   ]
  },
  {
   "cell_type": "code",
   "execution_count": null,
   "id": "d357f225-c348-471f-9598-5f0334923ef8",
   "metadata": {},
   "outputs": [],
   "source": []
  }
 ],
 "metadata": {
  "kernelspec": {
   "display_name": "Python 3 (ipykernel)",
   "language": "python",
   "name": "python3"
  },
  "language_info": {
   "codemirror_mode": {
    "name": "ipython",
    "version": 3
   },
   "file_extension": ".py",
   "mimetype": "text/x-python",
   "name": "python",
   "nbconvert_exporter": "python",
   "pygments_lexer": "ipython3",
   "version": "3.9.12"
  }
 },
 "nbformat": 4,
 "nbformat_minor": 5
}
